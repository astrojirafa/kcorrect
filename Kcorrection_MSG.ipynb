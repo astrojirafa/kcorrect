{
 "cells": [
  {
   "cell_type": "code",
   "execution_count": 1,
   "id": "60a29fea",
   "metadata": {},
   "outputs": [],
   "source": [
    "import pandas as pd\n",
    "from astropy.cosmology import FlatLambdaCDM\n",
    "import kcorrect.kcorrect\n",
    "import matplotlib.pyplot as plt"
   ]
  },
  {
   "cell_type": "markdown",
   "id": "304f46a4",
   "metadata": {},
   "source": [
    "### K Correction\n",
    "\n",
    "In this algorithm the k correction is performed on the SDSS Main Sample of galaxies using the KCORRECT code (M. Blanton).\n",
    "\n",
    "https://kcorrect.readthedocs.io/en/5.1.1/index.html"
   ]
  },
  {
   "cell_type": "markdown",
   "id": "102872c3",
   "metadata": {},
   "source": [
    "##### Work with the data\n",
    "\n",
    "Load the data from the Main Sample of galaxies, perform an analysis to discard values that may affect the fit."
   ]
  },
  {
   "cell_type": "code",
   "execution_count": 2,
   "id": "5fcde734",
   "metadata": {},
   "outputs": [],
   "source": [
    "MSG = pd.read_csv('MSG.csv')"
   ]
  },
  {
   "cell_type": "code",
   "execution_count": 4,
   "id": "ac286e37",
   "metadata": {
    "scrolled": true
   },
   "outputs": [
    {
     "data": {
      "text/html": [
       "<div>\n",
       "<style scoped>\n",
       "    .dataframe tbody tr th:only-of-type {\n",
       "        vertical-align: middle;\n",
       "    }\n",
       "\n",
       "    .dataframe tbody tr th {\n",
       "        vertical-align: top;\n",
       "    }\n",
       "\n",
       "    .dataframe thead th {\n",
       "        text-align: right;\n",
       "    }\n",
       "</style>\n",
       "<table border=\"1\" class=\"dataframe\">\n",
       "  <thead>\n",
       "    <tr style=\"text-align: right;\">\n",
       "      <th></th>\n",
       "      <th>objID</th>\n",
       "      <th>redshift</th>\n",
       "      <th>modelMag_u</th>\n",
       "      <th>modelMagErr_u</th>\n",
       "      <th>extinction_u</th>\n",
       "      <th>modelMag_g</th>\n",
       "      <th>modelMagErr_g</th>\n",
       "      <th>extinction_g</th>\n",
       "      <th>modelMag_r</th>\n",
       "      <th>modelMagErr_r</th>\n",
       "      <th>extinction_r</th>\n",
       "      <th>modelMag_i</th>\n",
       "      <th>modelMagErr_i</th>\n",
       "      <th>extinction_i</th>\n",
       "      <th>modelMag_z</th>\n",
       "      <th>modelMagErr_z</th>\n",
       "      <th>extinction_z</th>\n",
       "    </tr>\n",
       "  </thead>\n",
       "  <tbody>\n",
       "    <tr>\n",
       "      <th>count</th>\n",
       "      <td>4.511920e+05</td>\n",
       "      <td>451192.000000</td>\n",
       "      <td>451192.000000</td>\n",
       "      <td>451192.000000</td>\n",
       "      <td>451192.000000</td>\n",
       "      <td>451192.000000</td>\n",
       "      <td>451192.000000</td>\n",
       "      <td>451192.000000</td>\n",
       "      <td>451192.000000</td>\n",
       "      <td>451192.000000</td>\n",
       "      <td>451192.000000</td>\n",
       "      <td>451192.000000</td>\n",
       "      <td>451192.000000</td>\n",
       "      <td>451192.000000</td>\n",
       "      <td>451192.000000</td>\n",
       "      <td>451192.000000</td>\n",
       "      <td>451192.000000</td>\n",
       "    </tr>\n",
       "    <tr>\n",
       "      <th>mean</th>\n",
       "      <td>5.878154e+17</td>\n",
       "      <td>0.106160</td>\n",
       "      <td>19.323185</td>\n",
       "      <td>-0.053327</td>\n",
       "      <td>0.157107</td>\n",
       "      <td>17.694881</td>\n",
       "      <td>-0.036077</td>\n",
       "      <td>0.115598</td>\n",
       "      <td>16.842645</td>\n",
       "      <td>0.005711</td>\n",
       "      <td>0.083841</td>\n",
       "      <td>16.416815</td>\n",
       "      <td>0.006066</td>\n",
       "      <td>0.063574</td>\n",
       "      <td>16.015100</td>\n",
       "      <td>-0.075174</td>\n",
       "      <td>0.045075</td>\n",
       "    </tr>\n",
       "    <tr>\n",
       "      <th>std</th>\n",
       "      <td>1.807697e+14</td>\n",
       "      <td>0.046309</td>\n",
       "      <td>36.545389</td>\n",
       "      <td>36.463173</td>\n",
       "      <td>0.096939</td>\n",
       "      <td>21.102996</td>\n",
       "      <td>21.051891</td>\n",
       "      <td>0.071327</td>\n",
       "      <td>0.681487</td>\n",
       "      <td>0.001854</td>\n",
       "      <td>0.051732</td>\n",
       "      <td>0.680443</td>\n",
       "      <td>0.028864</td>\n",
       "      <td>0.039227</td>\n",
       "      <td>29.827599</td>\n",
       "      <td>29.771807</td>\n",
       "      <td>0.027812</td>\n",
       "    </tr>\n",
       "    <tr>\n",
       "      <th>min</th>\n",
       "      <td>5.877230e+17</td>\n",
       "      <td>0.030000</td>\n",
       "      <td>-9999.000000</td>\n",
       "      <td>-9999.000000</td>\n",
       "      <td>0.015224</td>\n",
       "      <td>-9999.000000</td>\n",
       "      <td>-9999.000000</td>\n",
       "      <td>0.011202</td>\n",
       "      <td>11.968400</td>\n",
       "      <td>0.001616</td>\n",
       "      <td>0.008124</td>\n",
       "      <td>11.611060</td>\n",
       "      <td>0.001627</td>\n",
       "      <td>0.006161</td>\n",
       "      <td>-9999.000000</td>\n",
       "      <td>-9999.000000</td>\n",
       "      <td>0.004368</td>\n",
       "    </tr>\n",
       "    <tr>\n",
       "      <th>25%</th>\n",
       "      <td>5.877321e+17</td>\n",
       "      <td>0.071358</td>\n",
       "      <td>18.867270</td>\n",
       "      <td>0.041149</td>\n",
       "      <td>0.091598</td>\n",
       "      <td>17.317967</td>\n",
       "      <td>0.005851</td>\n",
       "      <td>0.067397</td>\n",
       "      <td>16.497530</td>\n",
       "      <td>0.004540</td>\n",
       "      <td>0.048882</td>\n",
       "      <td>16.077240</td>\n",
       "      <td>0.004554</td>\n",
       "      <td>0.037066</td>\n",
       "      <td>15.757867</td>\n",
       "      <td>0.009855</td>\n",
       "      <td>0.026280</td>\n",
       "    </tr>\n",
       "    <tr>\n",
       "      <th>50%</th>\n",
       "      <td>5.877389e+17</td>\n",
       "      <td>0.099826</td>\n",
       "      <td>19.535880</td>\n",
       "      <td>0.063827</td>\n",
       "      <td>0.134588</td>\n",
       "      <td>17.888150</td>\n",
       "      <td>0.007690</td>\n",
       "      <td>0.099029</td>\n",
       "      <td>17.018980</td>\n",
       "      <td>0.005717</td>\n",
       "      <td>0.071824</td>\n",
       "      <td>16.587025</td>\n",
       "      <td>0.005724</td>\n",
       "      <td>0.054462</td>\n",
       "      <td>16.267290</td>\n",
       "      <td>0.013028</td>\n",
       "      <td>0.038614</td>\n",
       "    </tr>\n",
       "    <tr>\n",
       "      <th>75%</th>\n",
       "      <td>5.877429e+17</td>\n",
       "      <td>0.135472</td>\n",
       "      <td>20.130620</td>\n",
       "      <td>0.096900</td>\n",
       "      <td>0.197751</td>\n",
       "      <td>18.299762</td>\n",
       "      <td>0.009643</td>\n",
       "      <td>0.145504</td>\n",
       "      <td>17.360920</td>\n",
       "      <td>0.006722</td>\n",
       "      <td>0.105531</td>\n",
       "      <td>16.922070</td>\n",
       "      <td>0.006776</td>\n",
       "      <td>0.080021</td>\n",
       "      <td>16.602240</td>\n",
       "      <td>0.016147</td>\n",
       "      <td>0.056736</td>\n",
       "    </tr>\n",
       "    <tr>\n",
       "      <th>max</th>\n",
       "      <td>5.888489e+17</td>\n",
       "      <td>0.299798</td>\n",
       "      <td>30.842740</td>\n",
       "      <td>9.691940</td>\n",
       "      <td>1.776414</td>\n",
       "      <td>28.652290</td>\n",
       "      <td>6.875753</td>\n",
       "      <td>1.307069</td>\n",
       "      <td>18.528120</td>\n",
       "      <td>0.048812</td>\n",
       "      <td>0.947995</td>\n",
       "      <td>28.298760</td>\n",
       "      <td>5.652611</td>\n",
       "      <td>0.718836</td>\n",
       "      <td>27.289790</td>\n",
       "      <td>5.440267</td>\n",
       "      <td>0.509664</td>\n",
       "    </tr>\n",
       "  </tbody>\n",
       "</table>\n",
       "</div>"
      ],
      "text/plain": [
       "              objID       redshift     modelMag_u  modelMagErr_u  \\\n",
       "count  4.511920e+05  451192.000000  451192.000000  451192.000000   \n",
       "mean   5.878154e+17       0.106160      19.323185      -0.053327   \n",
       "std    1.807697e+14       0.046309      36.545389      36.463173   \n",
       "min    5.877230e+17       0.030000   -9999.000000   -9999.000000   \n",
       "25%    5.877321e+17       0.071358      18.867270       0.041149   \n",
       "50%    5.877389e+17       0.099826      19.535880       0.063827   \n",
       "75%    5.877429e+17       0.135472      20.130620       0.096900   \n",
       "max    5.888489e+17       0.299798      30.842740       9.691940   \n",
       "\n",
       "        extinction_u     modelMag_g  modelMagErr_g   extinction_g  \\\n",
       "count  451192.000000  451192.000000  451192.000000  451192.000000   \n",
       "mean        0.157107      17.694881      -0.036077       0.115598   \n",
       "std         0.096939      21.102996      21.051891       0.071327   \n",
       "min         0.015224   -9999.000000   -9999.000000       0.011202   \n",
       "25%         0.091598      17.317967       0.005851       0.067397   \n",
       "50%         0.134588      17.888150       0.007690       0.099029   \n",
       "75%         0.197751      18.299762       0.009643       0.145504   \n",
       "max         1.776414      28.652290       6.875753       1.307069   \n",
       "\n",
       "          modelMag_r  modelMagErr_r   extinction_r     modelMag_i  \\\n",
       "count  451192.000000  451192.000000  451192.000000  451192.000000   \n",
       "mean       16.842645       0.005711       0.083841      16.416815   \n",
       "std         0.681487       0.001854       0.051732       0.680443   \n",
       "min        11.968400       0.001616       0.008124      11.611060   \n",
       "25%        16.497530       0.004540       0.048882      16.077240   \n",
       "50%        17.018980       0.005717       0.071824      16.587025   \n",
       "75%        17.360920       0.006722       0.105531      16.922070   \n",
       "max        18.528120       0.048812       0.947995      28.298760   \n",
       "\n",
       "       modelMagErr_i   extinction_i     modelMag_z  modelMagErr_z  \\\n",
       "count  451192.000000  451192.000000  451192.000000  451192.000000   \n",
       "mean        0.006066       0.063574      16.015100      -0.075174   \n",
       "std         0.028864       0.039227      29.827599      29.771807   \n",
       "min         0.001627       0.006161   -9999.000000   -9999.000000   \n",
       "25%         0.004554       0.037066      15.757867       0.009855   \n",
       "50%         0.005724       0.054462      16.267290       0.013028   \n",
       "75%         0.006776       0.080021      16.602240       0.016147   \n",
       "max         5.652611       0.718836      27.289790       5.440267   \n",
       "\n",
       "        extinction_z  \n",
       "count  451192.000000  \n",
       "mean        0.045075  \n",
       "std         0.027812  \n",
       "min         0.004368  \n",
       "25%         0.026280  \n",
       "50%         0.038614  \n",
       "75%         0.056736  \n",
       "max         0.509664  "
      ]
     },
     "execution_count": 4,
     "metadata": {},
     "output_type": "execute_result"
    }
   ],
   "source": [
    "MSG.describe()"
   ]
  },
  {
   "cell_type": "code",
   "execution_count": 3,
   "id": "70cfeef7",
   "metadata": {},
   "outputs": [],
   "source": [
    "MSG = MSG[(MSG['modelMag_u']>0)&\n",
    "          (MSG['modelMagErr_u']>0)&\n",
    "          (MSG['modelMag_g']>0)&\n",
    "          (MSG['modelMagErr_g']>0)&\n",
    "          (MSG['modelMag_r']>0)&\n",
    "          (MSG['modelMagErr_r']>0)&\n",
    "          (MSG['modelMag_z']>0)&\n",
    "          (MSG['modelMagErr_z']>0)&\n",
    "          (MSG['modelMag_i']>0)&\n",
    "          (MSG['modelMagErr_i']>0)]"
   ]
  },
  {
   "cell_type": "code",
   "execution_count": 5,
   "id": "9ae603be",
   "metadata": {},
   "outputs": [
    {
     "data": {
      "text/html": [
       "<div>\n",
       "<style scoped>\n",
       "    .dataframe tbody tr th:only-of-type {\n",
       "        vertical-align: middle;\n",
       "    }\n",
       "\n",
       "    .dataframe tbody tr th {\n",
       "        vertical-align: top;\n",
       "    }\n",
       "\n",
       "    .dataframe thead th {\n",
       "        text-align: right;\n",
       "    }\n",
       "</style>\n",
       "<table border=\"1\" class=\"dataframe\">\n",
       "  <thead>\n",
       "    <tr style=\"text-align: right;\">\n",
       "      <th></th>\n",
       "      <th>objID</th>\n",
       "      <th>redshift</th>\n",
       "      <th>modelMag_u</th>\n",
       "      <th>modelMagErr_u</th>\n",
       "      <th>extinction_u</th>\n",
       "      <th>modelMag_g</th>\n",
       "      <th>modelMagErr_g</th>\n",
       "      <th>extinction_g</th>\n",
       "      <th>modelMag_r</th>\n",
       "      <th>modelMagErr_r</th>\n",
       "      <th>extinction_r</th>\n",
       "      <th>modelMag_i</th>\n",
       "      <th>modelMagErr_i</th>\n",
       "      <th>extinction_i</th>\n",
       "      <th>modelMag_z</th>\n",
       "      <th>modelMagErr_z</th>\n",
       "      <th>extinction_z</th>\n",
       "    </tr>\n",
       "  </thead>\n",
       "  <tbody>\n",
       "    <tr>\n",
       "      <th>0</th>\n",
       "      <td>587722981744902300</td>\n",
       "      <td>0.088799</td>\n",
       "      <td>19.91550</td>\n",
       "      <td>0.063814</td>\n",
       "      <td>0.181282</td>\n",
       "      <td>17.97751</td>\n",
       "      <td>0.007791</td>\n",
       "      <td>0.133385</td>\n",
       "      <td>17.02798</td>\n",
       "      <td>0.005058</td>\n",
       "      <td>0.096742</td>\n",
       "      <td>16.57997</td>\n",
       "      <td>0.005046</td>\n",
       "      <td>0.073357</td>\n",
       "      <td>16.22250</td>\n",
       "      <td>0.010181</td>\n",
       "      <td>0.052011</td>\n",
       "    </tr>\n",
       "    <tr>\n",
       "      <th>1</th>\n",
       "      <td>587722981744967759</td>\n",
       "      <td>0.146446</td>\n",
       "      <td>20.71007</td>\n",
       "      <td>0.124666</td>\n",
       "      <td>0.178553</td>\n",
       "      <td>18.48612</td>\n",
       "      <td>0.010869</td>\n",
       "      <td>0.131377</td>\n",
       "      <td>17.35504</td>\n",
       "      <td>0.006009</td>\n",
       "      <td>0.095286</td>\n",
       "      <td>16.88805</td>\n",
       "      <td>0.005959</td>\n",
       "      <td>0.072252</td>\n",
       "      <td>16.55814</td>\n",
       "      <td>0.012471</td>\n",
       "      <td>0.051228</td>\n",
       "    </tr>\n",
       "    <tr>\n",
       "      <th>2</th>\n",
       "      <td>587722981744967771</td>\n",
       "      <td>0.152083</td>\n",
       "      <td>20.55222</td>\n",
       "      <td>0.106713</td>\n",
       "      <td>0.178781</td>\n",
       "      <td>18.53510</td>\n",
       "      <td>0.010961</td>\n",
       "      <td>0.131545</td>\n",
       "      <td>17.40557</td>\n",
       "      <td>0.006071</td>\n",
       "      <td>0.095408</td>\n",
       "      <td>16.92069</td>\n",
       "      <td>0.005953</td>\n",
       "      <td>0.072345</td>\n",
       "      <td>16.55273</td>\n",
       "      <td>0.012153</td>\n",
       "      <td>0.051293</td>\n",
       "    </tr>\n",
       "    <tr>\n",
       "      <th>3</th>\n",
       "      <td>587722981744967809</td>\n",
       "      <td>0.147064</td>\n",
       "      <td>20.01891</td>\n",
       "      <td>0.063431</td>\n",
       "      <td>0.171515</td>\n",
       "      <td>18.19122</td>\n",
       "      <td>0.009128</td>\n",
       "      <td>0.126199</td>\n",
       "      <td>17.32281</td>\n",
       "      <td>0.006673</td>\n",
       "      <td>0.091530</td>\n",
       "      <td>16.94052</td>\n",
       "      <td>0.007052</td>\n",
       "      <td>0.069405</td>\n",
       "      <td>16.67728</td>\n",
       "      <td>0.013312</td>\n",
       "      <td>0.049209</td>\n",
       "    </tr>\n",
       "    <tr>\n",
       "      <th>4</th>\n",
       "      <td>587722981744967811</td>\n",
       "      <td>0.143732</td>\n",
       "      <td>19.36153</td>\n",
       "      <td>0.043162</td>\n",
       "      <td>0.171860</td>\n",
       "      <td>18.04230</td>\n",
       "      <td>0.008239</td>\n",
       "      <td>0.126453</td>\n",
       "      <td>17.30386</td>\n",
       "      <td>0.005816</td>\n",
       "      <td>0.091714</td>\n",
       "      <td>16.83807</td>\n",
       "      <td>0.005826</td>\n",
       "      <td>0.069544</td>\n",
       "      <td>16.58002</td>\n",
       "      <td>0.013282</td>\n",
       "      <td>0.049308</td>\n",
       "    </tr>\n",
       "    <tr>\n",
       "      <th>...</th>\n",
       "      <td>...</td>\n",
       "      <td>...</td>\n",
       "      <td>...</td>\n",
       "      <td>...</td>\n",
       "      <td>...</td>\n",
       "      <td>...</td>\n",
       "      <td>...</td>\n",
       "      <td>...</td>\n",
       "      <td>...</td>\n",
       "      <td>...</td>\n",
       "      <td>...</td>\n",
       "      <td>...</td>\n",
       "      <td>...</td>\n",
       "      <td>...</td>\n",
       "      <td>...</td>\n",
       "      <td>...</td>\n",
       "      <td>...</td>\n",
       "    </tr>\n",
       "    <tr>\n",
       "      <th>451187</th>\n",
       "      <td>588848901007933476</td>\n",
       "      <td>0.034861</td>\n",
       "      <td>16.92802</td>\n",
       "      <td>0.014284</td>\n",
       "      <td>0.270167</td>\n",
       "      <td>15.30444</td>\n",
       "      <td>0.002678</td>\n",
       "      <td>0.198787</td>\n",
       "      <td>14.61557</td>\n",
       "      <td>0.002387</td>\n",
       "      <td>0.144177</td>\n",
       "      <td>14.26663</td>\n",
       "      <td>0.002553</td>\n",
       "      <td>0.109325</td>\n",
       "      <td>14.00773</td>\n",
       "      <td>0.004705</td>\n",
       "      <td>0.077513</td>\n",
       "    </tr>\n",
       "    <tr>\n",
       "      <th>451188</th>\n",
       "      <td>588848901007933710</td>\n",
       "      <td>0.107974</td>\n",
       "      <td>18.97975</td>\n",
       "      <td>0.059680</td>\n",
       "      <td>0.249048</td>\n",
       "      <td>17.58811</td>\n",
       "      <td>0.006549</td>\n",
       "      <td>0.183247</td>\n",
       "      <td>16.82364</td>\n",
       "      <td>0.005320</td>\n",
       "      <td>0.132906</td>\n",
       "      <td>16.43360</td>\n",
       "      <td>0.006031</td>\n",
       "      <td>0.100779</td>\n",
       "      <td>16.16250</td>\n",
       "      <td>0.014108</td>\n",
       "      <td>0.071453</td>\n",
       "    </tr>\n",
       "    <tr>\n",
       "      <th>451189</th>\n",
       "      <td>588848901008064671</td>\n",
       "      <td>0.038900</td>\n",
       "      <td>17.42803</td>\n",
       "      <td>0.016235</td>\n",
       "      <td>0.257063</td>\n",
       "      <td>15.54256</td>\n",
       "      <td>0.002684</td>\n",
       "      <td>0.189144</td>\n",
       "      <td>14.68228</td>\n",
       "      <td>0.002259</td>\n",
       "      <td>0.137183</td>\n",
       "      <td>14.26233</td>\n",
       "      <td>0.002344</td>\n",
       "      <td>0.104022</td>\n",
       "      <td>13.95460</td>\n",
       "      <td>0.003814</td>\n",
       "      <td>0.073753</td>\n",
       "    </tr>\n",
       "    <tr>\n",
       "      <th>451190</th>\n",
       "      <td>588848901008064775</td>\n",
       "      <td>0.052316</td>\n",
       "      <td>18.26569</td>\n",
       "      <td>0.026392</td>\n",
       "      <td>0.281060</td>\n",
       "      <td>16.96636</td>\n",
       "      <td>0.005081</td>\n",
       "      <td>0.206801</td>\n",
       "      <td>16.41017</td>\n",
       "      <td>0.004230</td>\n",
       "      <td>0.149989</td>\n",
       "      <td>16.11516</td>\n",
       "      <td>0.004974</td>\n",
       "      <td>0.113733</td>\n",
       "      <td>15.90681</td>\n",
       "      <td>0.011768</td>\n",
       "      <td>0.080638</td>\n",
       "    </tr>\n",
       "    <tr>\n",
       "      <th>451191</th>\n",
       "      <td>588848901008064851</td>\n",
       "      <td>0.039856</td>\n",
       "      <td>19.40726</td>\n",
       "      <td>0.052853</td>\n",
       "      <td>0.260699</td>\n",
       "      <td>17.96776</td>\n",
       "      <td>0.007723</td>\n",
       "      <td>0.191820</td>\n",
       "      <td>17.24705</td>\n",
       "      <td>0.006325</td>\n",
       "      <td>0.139124</td>\n",
       "      <td>16.86744</td>\n",
       "      <td>0.007287</td>\n",
       "      <td>0.105493</td>\n",
       "      <td>16.60784</td>\n",
       "      <td>0.017537</td>\n",
       "      <td>0.074796</td>\n",
       "    </tr>\n",
       "  </tbody>\n",
       "</table>\n",
       "<p>451181 rows × 17 columns</p>\n",
       "</div>"
      ],
      "text/plain": [
       "                     objID  redshift  modelMag_u  modelMagErr_u  extinction_u  \\\n",
       "0       587722981744902300  0.088799    19.91550       0.063814      0.181282   \n",
       "1       587722981744967759  0.146446    20.71007       0.124666      0.178553   \n",
       "2       587722981744967771  0.152083    20.55222       0.106713      0.178781   \n",
       "3       587722981744967809  0.147064    20.01891       0.063431      0.171515   \n",
       "4       587722981744967811  0.143732    19.36153       0.043162      0.171860   \n",
       "...                    ...       ...         ...            ...           ...   \n",
       "451187  588848901007933476  0.034861    16.92802       0.014284      0.270167   \n",
       "451188  588848901007933710  0.107974    18.97975       0.059680      0.249048   \n",
       "451189  588848901008064671  0.038900    17.42803       0.016235      0.257063   \n",
       "451190  588848901008064775  0.052316    18.26569       0.026392      0.281060   \n",
       "451191  588848901008064851  0.039856    19.40726       0.052853      0.260699   \n",
       "\n",
       "        modelMag_g  modelMagErr_g  extinction_g  modelMag_r  modelMagErr_r  \\\n",
       "0         17.97751       0.007791      0.133385    17.02798       0.005058   \n",
       "1         18.48612       0.010869      0.131377    17.35504       0.006009   \n",
       "2         18.53510       0.010961      0.131545    17.40557       0.006071   \n",
       "3         18.19122       0.009128      0.126199    17.32281       0.006673   \n",
       "4         18.04230       0.008239      0.126453    17.30386       0.005816   \n",
       "...            ...            ...           ...         ...            ...   \n",
       "451187    15.30444       0.002678      0.198787    14.61557       0.002387   \n",
       "451188    17.58811       0.006549      0.183247    16.82364       0.005320   \n",
       "451189    15.54256       0.002684      0.189144    14.68228       0.002259   \n",
       "451190    16.96636       0.005081      0.206801    16.41017       0.004230   \n",
       "451191    17.96776       0.007723      0.191820    17.24705       0.006325   \n",
       "\n",
       "        extinction_r  modelMag_i  modelMagErr_i  extinction_i  modelMag_z  \\\n",
       "0           0.096742    16.57997       0.005046      0.073357    16.22250   \n",
       "1           0.095286    16.88805       0.005959      0.072252    16.55814   \n",
       "2           0.095408    16.92069       0.005953      0.072345    16.55273   \n",
       "3           0.091530    16.94052       0.007052      0.069405    16.67728   \n",
       "4           0.091714    16.83807       0.005826      0.069544    16.58002   \n",
       "...              ...         ...            ...           ...         ...   \n",
       "451187      0.144177    14.26663       0.002553      0.109325    14.00773   \n",
       "451188      0.132906    16.43360       0.006031      0.100779    16.16250   \n",
       "451189      0.137183    14.26233       0.002344      0.104022    13.95460   \n",
       "451190      0.149989    16.11516       0.004974      0.113733    15.90681   \n",
       "451191      0.139124    16.86744       0.007287      0.105493    16.60784   \n",
       "\n",
       "        modelMagErr_z  extinction_z  \n",
       "0            0.010181      0.052011  \n",
       "1            0.012471      0.051228  \n",
       "2            0.012153      0.051293  \n",
       "3            0.013312      0.049209  \n",
       "4            0.013282      0.049308  \n",
       "...               ...           ...  \n",
       "451187       0.004705      0.077513  \n",
       "451188       0.014108      0.071453  \n",
       "451189       0.003814      0.073753  \n",
       "451190       0.011768      0.080638  \n",
       "451191       0.017537      0.074796  \n",
       "\n",
       "[451181 rows x 17 columns]"
      ]
     },
     "execution_count": 5,
     "metadata": {},
     "output_type": "execute_result"
    }
   ],
   "source": [
    "MSG"
   ]
  },
  {
   "cell_type": "markdown",
   "id": "1eaae01c",
   "metadata": {},
   "source": [
    "##### Definition of the parameters\n",
    "\n",
    "Redshift, magnitudes to convert to maggies, magnitude errors and extinction."
   ]
  },
  {
   "cell_type": "code",
   "execution_count": 4,
   "id": "f7605a2b",
   "metadata": {},
   "outputs": [],
   "source": [
    "redshift = MSG['redshift']"
   ]
  },
  {
   "cell_type": "code",
   "execution_count": 5,
   "id": "755d57c1",
   "metadata": {},
   "outputs": [],
   "source": [
    "mag = MSG[['modelMag_u', 'modelMag_g', 'modelMag_r', 'modelMag_i', 'modelMag_z']]"
   ]
  },
  {
   "cell_type": "code",
   "execution_count": 6,
   "id": "3ccffe65",
   "metadata": {},
   "outputs": [],
   "source": [
    "mag_err = MSG[['modelMagErr_u', 'modelMagErr_g', 'modelMagErr_r', 'modelMagErr_i', 'modelMagErr_z']]"
   ]
  },
  {
   "cell_type": "code",
   "execution_count": 7,
   "id": "d19c5089",
   "metadata": {
    "scrolled": true
   },
   "outputs": [],
   "source": [
    "extinction = MSG[['extinction_u', 'extinction_g', 'extinction_r', 'extinction_i', 'extinction_z']]"
   ]
  },
  {
   "cell_type": "markdown",
   "id": "efd661cb",
   "metadata": {},
   "source": [
    "##### Use function to convert SDSS magnitudes to maggies"
   ]
  },
  {
   "cell_type": "code",
   "execution_count": 8,
   "id": "f7e80fba",
   "metadata": {},
   "outputs": [],
   "source": [
    "magg = kcorrect.utils.sdss_asinh_to_maggies(mag = mag, mag_err = mag_err, extinction = extinction)"
   ]
  },
  {
   "cell_type": "markdown",
   "id": "47f9cf78",
   "metadata": {},
   "source": [
    "##### Definition of the coeffs"
   ]
  },
  {
   "cell_type": "code",
   "execution_count": 9,
   "id": "2d779dd7",
   "metadata": {},
   "outputs": [],
   "source": [
    "maggies = magg[0]"
   ]
  },
  {
   "cell_type": "code",
   "execution_count": 10,
   "id": "469470e7",
   "metadata": {},
   "outputs": [],
   "source": [
    "ivar = magg[1]"
   ]
  },
  {
   "cell_type": "code",
   "execution_count": 11,
   "id": "27864497",
   "metadata": {},
   "outputs": [],
   "source": [
    "responses = ['sdss_u0', 'sdss_g0', 'sdss_r0', 'sdss_i0', 'sdss_z0']\n",
    "kc = kcorrect.kcorrect.Kcorrect(responses=responses)"
   ]
  },
  {
   "cell_type": "code",
   "execution_count": 12,
   "id": "9824322c",
   "metadata": {},
   "outputs": [
    {
     "name": "stdout",
     "output_type": "stream",
     "text": [
      "\n",
      " NNLS quitting on iteration count.\n",
      "\n",
      " NNLS quitting on iteration count.\n"
     ]
    }
   ],
   "source": [
    "coeffs = kc.fit_coeffs(redshift=redshift, maggies=maggies, ivar=ivar)"
   ]
  },
  {
   "cell_type": "markdown",
   "id": "d0f1e337",
   "metadata": {},
   "source": [
    "##### Calculate the k corrections and absolute magnitudes"
   ]
  },
  {
   "cell_type": "code",
   "execution_count": 13,
   "id": "34b49cf2",
   "metadata": {},
   "outputs": [],
   "source": [
    "k = kc.kcorrect(redshift=redshift, coeffs=coeffs)"
   ]
  },
  {
   "cell_type": "code",
   "execution_count": 14,
   "id": "2db1dcee",
   "metadata": {},
   "outputs": [
    {
     "data": {
      "text/plain": [
       "array([[ 0.34403875,  0.26074302,  0.12298186,  0.06306707,  0.05759904],\n",
       "       [ 0.60302866,  0.5179493 ,  0.18472788,  0.10809202,  0.06303394],\n",
       "       [ 0.6286185 ,  0.5270455 ,  0.20995863,  0.11474054,  0.08742559],\n",
       "       ...,\n",
       "       [ 0.13719721,  0.10453953,  0.04461266,  0.02998765,  0.01918867],\n",
       "       [ 0.14076082,  0.06242667,  0.05594682, -0.02488125, -0.00435846],\n",
       "       [ 0.1178567 ,  0.07481743,  0.06152232,  0.01279737,  0.01719987]],\n",
       "      dtype=float32)"
      ]
     },
     "execution_count": 14,
     "metadata": {},
     "output_type": "execute_result"
    }
   ],
   "source": [
    "k"
   ]
  },
  {
   "cell_type": "code",
   "execution_count": 16,
   "id": "21839a32",
   "metadata": {},
   "outputs": [],
   "source": [
    "ku = k[:, 0]"
   ]
  },
  {
   "cell_type": "code",
   "execution_count": 17,
   "id": "14667c8c",
   "metadata": {},
   "outputs": [],
   "source": [
    "kg = k[:, 1]"
   ]
  },
  {
   "cell_type": "code",
   "execution_count": 18,
   "id": "845a11ea",
   "metadata": {},
   "outputs": [],
   "source": [
    "kr = k[:, 2]"
   ]
  },
  {
   "cell_type": "code",
   "execution_count": 19,
   "id": "4985f17f",
   "metadata": {},
   "outputs": [],
   "source": [
    "ki = k[:, 3]"
   ]
  },
  {
   "cell_type": "code",
   "execution_count": 20,
   "id": "5f6cd359",
   "metadata": {},
   "outputs": [],
   "source": [
    "kz = k[:, 4]"
   ]
  },
  {
   "cell_type": "code",
   "execution_count": 21,
   "id": "b40e96a1",
   "metadata": {},
   "outputs": [],
   "source": [
    "absmag = kc.absmag(redshift=redshift, maggies=maggies, ivar=ivar, coeffs=coeffs)"
   ]
  },
  {
   "cell_type": "code",
   "execution_count": 23,
   "id": "ae9b480e",
   "metadata": {
    "scrolled": true
   },
   "outputs": [],
   "source": [
    "absmag_u = absmag[:, 0]"
   ]
  },
  {
   "cell_type": "code",
   "execution_count": 24,
   "id": "1ce644ca",
   "metadata": {},
   "outputs": [],
   "source": [
    "absmag_g = absmag[:, 1]"
   ]
  },
  {
   "cell_type": "code",
   "execution_count": 25,
   "id": "902e2f92",
   "metadata": {},
   "outputs": [],
   "source": [
    "absmag_r = absmag[:, 2]"
   ]
  },
  {
   "cell_type": "code",
   "execution_count": 26,
   "id": "a745e85e",
   "metadata": {},
   "outputs": [],
   "source": [
    "absmag_i = absmag[:, 3]"
   ]
  },
  {
   "cell_type": "code",
   "execution_count": 27,
   "id": "2d0a54b0",
   "metadata": {},
   "outputs": [],
   "source": [
    "absmag_z = absmag[:, 4]"
   ]
  },
  {
   "cell_type": "code",
   "execution_count": 23,
   "id": "1fbdc103",
   "metadata": {},
   "outputs": [
    {
     "data": {
      "image/png": "[encoded data removed]",
      "text/plain": [
       "<Figure size 700x1400 with 5 Axes>"
      ]
     },
     "metadata": {},
     "output_type": "display_data"
    }
   ],
   "source": [
    "#plot z vs kcorrection\n",
    "\n",
    "#Datos\n",
    "kcorrect_u = ku\n",
    "kcorrect_g = kg\n",
    "kcorrect_r = kr\n",
    "kcorrect_i = ki\n",
    "kcorrect_z = kz\n",
    "redshifts = redshift\n",
    "\n",
    "#subplots\n",
    "fig, axs = plt.subplots(5, 1, figsize=(7, 14), sharex=True)\n",
    "\n",
    "#crear los graficos\n",
    "axs[0].scatter(redshifts, kcorrect_u, label='u', color='darkblue')\n",
    "axs[1].scatter(redshifts, kcorrect_g, label='g', color='green')\n",
    "axs[2].scatter(redshifts, kcorrect_r, label='r', color='red')\n",
    "axs[3].scatter(redshifts, kcorrect_i, label='i', color='purple')\n",
    "axs[4].scatter(redshifts, kcorrect_z, label='z', color='grey')\n",
    "\n",
    "#Labels y titulo\n",
    "fig.suptitle('Redshift vs Corrección K para cada filtro', y=0.9)\n",
    "fig.text(0.5, 0.04, 'z', ha='center', va='center')\n",
    "fig.text(0.06, 0.5, 'k(z)', ha='center', va='center', rotation='vertical')\n",
    "\n",
    "#mostrar leyendas\n",
    "for ax in axs:\n",
    "    ax.legend()\n",
    "    \n",
    "plt.subplots_adjust(hspace=0.05)\n",
    "\n",
    "#mostrar gráfica\n",
    "plt.show()"
   ]
  },
  {
   "cell_type": "code",
   "execution_count": 44,
   "id": "278c60bc",
   "metadata": {},
   "outputs": [
    {
     "data": {
      "image/png": "[encoded data removed]",
      "text/plain": [
       "<Figure size 400x800 with 5 Axes>"
      ]
     },
     "metadata": {},
     "output_type": "display_data"
    }
   ],
   "source": [
    "#plot z vs absmag\n",
    "\n",
    "#Datos\n",
    "absmag_u = absmag_u \n",
    "absmag_g = absmag_g\n",
    "absmag_r = absmag_r\n",
    "absmag_i = absmag_i\n",
    "absmag_z = absmag_z\n",
    "redshifts = redshift\n",
    "\n",
    "# Subgráficos\n",
    "fig, axs = plt.subplots(5, 1, figsize=(4, 8), sharex=True)\n",
    "\n",
    "# Crear histogramas\n",
    "axs[0].hist(absmag_u, bins=20, color='darkblue', alpha=0.7, label='u')\n",
    "axs[1].hist(absmag_g, bins=20, color='green', alpha=0.7, label='g')\n",
    "axs[2].hist(absmag_r, bins=20, color='red', alpha=0.7, label='r')\n",
    "axs[3].hist(absmag_i, bins=20, color='purple', alpha=0.7, label='i')\n",
    "axs[4].hist(absmag_z, bins=20, color='grey', alpha=0.7, label='z')\n",
    "\n",
    "# Etiquetas y título\n",
    "fig.suptitle('Histogramas de Magnitud Absoluta para cada filtro')\n",
    "fig.text(0.5, 0.04, 'absMag', ha='center', va='center')\n",
    "fig.text(0.06, 0.5, 'N', ha='center', va='center', rotation='vertical')\n",
    "\n",
    "# Mostrar leyendas\n",
    "for ax in axs:\n",
    "    ax.legend()\n",
    "\n",
    "# Mostrar gráfica\n",
    "plt.show()\n",
    "\n"
   ]
  },
  {
   "cell_type": "markdown",
   "id": "ac3961b5",
   "metadata": {},
   "source": [
    "##### Absolute magnitudes without kcorrection"
   ]
  },
  {
   "cell_type": "markdown",
   "id": "968ca46e",
   "metadata": {},
   "source": [
    "Cosmology definition and distances estimation using astropy"
   ]
  },
  {
   "cell_type": "code",
   "execution_count": 32,
   "id": "560f86d4",
   "metadata": {},
   "outputs": [],
   "source": [
    "cosmo = FlatLambdaCDM(H0=70, Om0=0.2)"
   ]
  },
  {
   "cell_type": "code",
   "execution_count": 33,
   "id": "94e6bd86",
   "metadata": {},
   "outputs": [],
   "source": [
    "LD = cosmo.luminosity_distance(MSG['redshift'])"
   ]
  },
  {
   "cell_type": "code",
   "execution_count": 34,
   "id": "665d8bf5",
   "metadata": {},
   "outputs": [
    {
     "data": {
      "text/plain": [
       "0         408.389146\n",
       "1         702.459183\n",
       "2         732.388991\n",
       "3         705.730429\n",
       "4         688.122575\n",
       "             ...    \n",
       "451187    153.689429\n",
       "451188    503.746095\n",
       "451189    172.053767\n",
       "451190    233.892730\n",
       "451191    176.420052\n",
       "Name: redshift, Length: 451181, dtype: float64"
      ]
     },
     "execution_count": 34,
     "metadata": {},
     "output_type": "execute_result"
    }
   ],
   "source": [
    "LD"
   ]
  },
  {
   "cell_type": "code",
   "execution_count": 41,
   "id": "2758c802",
   "metadata": {},
   "outputs": [],
   "source": [
    "Comoving_dist = cosmo.comoving_distance(MSG['redshift'])"
   ]
  },
  {
   "cell_type": "code",
   "execution_count": 42,
   "id": "326f1921",
   "metadata": {},
   "outputs": [
    {
     "data": {
      "text/latex": [
       "$[375.08208,~612.72767,~635.70853,~\\dots,~165.61154,~222.26475,~169.65816] \\; \\mathrm{Mpc}$"
      ],
      "text/plain": [
       "<Quantity [375.08208246, 612.72766701, 635.7085302 , ..., 165.6115442 ,\n",
       "           222.26474953, 169.6581562 ] Mpc>"
      ]
     },
     "execution_count": 42,
     "metadata": {},
     "output_type": "execute_result"
    }
   ],
   "source": [
    "Comoving_dist"
   ]
  },
  {
   "cell_type": "code",
   "execution_count": 43,
   "id": "a0cfed4d",
   "metadata": {
    "scrolled": true
   },
   "outputs": [
    {
     "data": {
      "text/plain": [
       "astropy.units.quantity.Quantity"
      ]
     },
     "execution_count": 43,
     "metadata": {},
     "output_type": "execute_result"
    }
   ],
   "source": [
    "type(Comoving_dist)"
   ]
  },
  {
   "cell_type": "markdown",
   "id": "22c1f40f",
   "metadata": {},
   "source": [
    "##### Absolute magnitude"
   ]
  },
  {
   "cell_type": "code",
   "execution_count": null,
   "id": "20244474",
   "metadata": {},
   "outputs": [],
   "source": []
  }
 ],
 "metadata": {
  "kernelspec": {
   "display_name": "Python 3 (ipykernel)",
   "language": "python",
   "name": "python3"
  },
  "language_info": {
   "codemirror_mode": {
    "name": "ipython",
    "version": 3
   },
   "file_extension": ".py",
   "mimetype": "text/x-python",
   "name": "python",
   "nbconvert_exporter": "python",
   "pygments_lexer": "ipython3",
   "version": "3.8.17"
  }
 },
 "nbformat": 4,
 "nbformat_minor": 5
}
